{
 "cells": [
  {
   "cell_type": "markdown",
   "id": "c03545cd",
   "metadata": {},
   "source": [
    "## 파이토치 기본\n",
    "\n",
    "### 파이토치 공식 튜토리얼\n",
    "- https://tutorials.pytorch.kr/\n",
    "\n",
    "### 파이토치 패키지(API)\n",
    "- `torch` : 메인 네임스페이스. 텐서(기본단위) 등 수학함수 포함. Numpy와 유사한 구조\n",
    "- `torch.autograd` : 자동미분을 위한 함수들 . 컨텍스트 매니저, 기반클래스 포함\n",
    "- `torch.nn` / `torch.nn.functional` : neuralnetwork. 신경망 구축위한 데이터 구조, 레이어등이 정의되어 있는 모듈. ReLU 등도 포함\n",
    "- `torch.optim` : SGD(확률적 경사 하강법) 중심 파라미터 최적화 알고리즘 포함\n",
    "- `torch.utils` : SGD 반복 연산 시 배치용 유틸리티 함수 포함\n",
    "- torch.multiprocessing : 파이토치용 병렬프로세싱 환경을 안정하게 다루기 위한 모듈"
   ]
  },
  {
   "cell_type": "markdown",
   "id": "b7e4631d",
   "metadata": {},
   "source": [
    "### 텐서\n",
    "- 파이토치 기본단위\n",
    "    - 1차원 배열 - 벡터\n",
    "    - 2차원 배열 - 행렬(매트릭스)\n",
    "    - 3차원 배열 - 텐서\n",
    "\n",
    "<img src=\"../image/ml0018.png\" width =\"600\">\n",
    "\n",
    "<p>\n",
    "\n",
    "<img src=\"../image/ml0019.png\" width  =\"600\">"
   ]
  },
  {
   "cell_type": "code",
   "execution_count": 1,
   "id": "83224b84",
   "metadata": {},
   "outputs": [],
   "source": [
    "import torch\n",
    "import numpy as np"
   ]
  },
  {
   "cell_type": "code",
   "execution_count": 2,
   "id": "293fd8a4",
   "metadata": {},
   "outputs": [
    {
     "data": {
      "text/plain": [
       "tensor([1., 2., 3.])"
      ]
     },
     "execution_count": 2,
     "metadata": {},
     "output_type": "execute_result"
    }
   ],
   "source": [
    "t1 = torch.tensor([1.0, 2.0, 3.0])\n",
    "t1"
   ]
  },
  {
   "cell_type": "code",
   "execution_count": 3,
   "id": "ddf221ba",
   "metadata": {},
   "outputs": [
    {
     "name": "stdout",
     "output_type": "stream",
     "text": [
      "torch.Size([3]) torch.float32 torch.FloatTensor cpu\n"
     ]
    }
   ],
   "source": [
    "# 텐서의 크기, 텐서 자료형, 텐서 자료형&전체타입, 어느디바이스에서 사용중\n",
    "print(t1.shape, t1.dtype, t1.type(), t1.device)"
   ]
  },
  {
   "cell_type": "code",
   "execution_count": 4,
   "id": "059da932",
   "metadata": {},
   "outputs": [
    {
     "data": {
      "text/plain": [
       "array([1., 2., 3.])"
      ]
     },
     "execution_count": 4,
     "metadata": {},
     "output_type": "execute_result"
    }
   ],
   "source": [
    "n1 = np.array([1.0, 2.0, 3.0])\n",
    "n1"
   ]
  },
  {
   "cell_type": "code",
   "execution_count": 5,
   "id": "3474fbf0",
   "metadata": {},
   "outputs": [
    {
     "name": "stdout",
     "output_type": "stream",
     "text": [
      "(3,) float64\n"
     ]
    }
   ],
   "source": [
    "print(n1.shape, n1.dtype)"
   ]
  },
  {
   "cell_type": "code",
   "execution_count": 6,
   "id": "7276686f",
   "metadata": {},
   "outputs": [
    {
     "data": {
      "text/plain": [
       "array([[1., 1., 1.],\n",
       "       [1., 1., 1.]])"
      ]
     },
     "execution_count": 6,
     "metadata": {},
     "output_type": "execute_result"
    }
   ],
   "source": [
    "## numpy에서 1,0으로 초기화 되는\n",
    "n2 = np.ones([2,3])\n",
    "n2"
   ]
  },
  {
   "cell_type": "code",
   "execution_count": 7,
   "id": "3364e7f1",
   "metadata": {},
   "outputs": [
    {
     "data": {
      "text/plain": [
       "array([[0., 0., 0.],\n",
       "       [0., 0., 0.]])"
      ]
     },
     "execution_count": 7,
     "metadata": {},
     "output_type": "execute_result"
    }
   ],
   "source": [
    "n3 = np.zeros([2,3])\n",
    "n3"
   ]
  },
  {
   "cell_type": "code",
   "execution_count": 8,
   "id": "6f7bd928",
   "metadata": {},
   "outputs": [
    {
     "data": {
      "text/plain": [
       "tensor([[1., 1., 1.],\n",
       "        [1., 1., 1.]])"
      ]
     },
     "execution_count": 8,
     "metadata": {},
     "output_type": "execute_result"
    }
   ],
   "source": [
    "t2 = torch.ones(2,3)\n",
    "t2"
   ]
  },
  {
   "cell_type": "code",
   "execution_count": 9,
   "id": "102ce227",
   "metadata": {},
   "outputs": [
    {
     "name": "stdout",
     "output_type": "stream",
     "text": [
      "torch.Size([2, 3]) torch.float32 torch.FloatTensor cpu\n"
     ]
    }
   ],
   "source": [
    "print(t2.shape, t2.dtype, t2.type(), t2.device)"
   ]
  },
  {
   "cell_type": "code",
   "execution_count": 10,
   "id": "1bea67a3",
   "metadata": {},
   "outputs": [
    {
     "data": {
      "text/plain": [
       "tensor([[0., 0., 0.],\n",
       "        [0., 0., 0.]])"
      ]
     },
     "execution_count": 10,
     "metadata": {},
     "output_type": "execute_result"
    }
   ],
   "source": [
    "t3 = torch.zeros(2,3)\n",
    "t3"
   ]
  },
  {
   "cell_type": "code",
   "execution_count": 11,
   "id": "6a34cf97",
   "metadata": {},
   "outputs": [
    {
     "data": {
      "text/plain": [
       "tensor([[0., 0., 0.],\n",
       "        [0., 0., 0.]], dtype=torch.float64)"
      ]
     },
     "execution_count": 11,
     "metadata": {},
     "output_type": "execute_result"
    }
   ],
   "source": [
    "# numpy로 만든 배열을 텐서로 변환\n",
    "t4 = torch.from_numpy(n3)\n",
    "t4"
   ]
  },
  {
   "cell_type": "markdown",
   "id": "cb5d80e2",
   "metadata": {},
   "source": [
    "- 넘파이와 파이토치 텐서간의 형변환 아주 쉽다"
   ]
  },
  {
   "cell_type": "code",
   "execution_count": 12,
   "id": "76ee90ce",
   "metadata": {},
   "outputs": [
    {
     "data": {
      "text/plain": [
       "tensor([[[1., 1., 1.],\n",
       "         [1., 1., 1.],\n",
       "         [1., 1., 1.]],\n",
       "\n",
       "        [[1., 1., 1.],\n",
       "         [1., 1., 1.],\n",
       "         [1., 1., 1.]],\n",
       "\n",
       "        [[1., 1., 1.],\n",
       "         [1., 1., 1.],\n",
       "         [1., 1., 1.]]])"
      ]
     },
     "execution_count": 12,
     "metadata": {},
     "output_type": "execute_result"
    }
   ],
   "source": [
    "t5 = torch.ones(3,3,3)\n",
    "t5"
   ]
  },
  {
   "cell_type": "code",
   "execution_count": 13,
   "id": "b767e339",
   "metadata": {},
   "outputs": [
    {
     "name": "stdout",
     "output_type": "stream",
     "text": [
      "torch.Size([3, 3, 3]) torch.float32 torch.FloatTensor cpu\n",
      "torch.Size([3, 3, 3])\n"
     ]
    }
   ],
   "source": [
    "print(t5.shape, t5.dtype, t5.type(), t5.device)\n",
    "print(t5.size())"
   ]
  },
  {
   "cell_type": "code",
   "execution_count": 14,
   "id": "a9ae0f14",
   "metadata": {},
   "outputs": [
    {
     "data": {
      "text/plain": [
       "tensor([[0.4750, 0.5346, 0.8484],\n",
       "        [0.5253, 0.7784, 0.1972]])"
      ]
     },
     "execution_count": 14,
     "metadata": {},
     "output_type": "execute_result"
    }
   ],
   "source": [
    "# 랜덤값, randn 랜덤값 정규화\n",
    "t6 = torch.rand(2,3)\n",
    "t6"
   ]
  },
  {
   "cell_type": "code",
   "execution_count": 15,
   "id": "2f60bc3c",
   "metadata": {},
   "outputs": [
    {
     "data": {
      "text/plain": [
       "device(type='cuda')"
      ]
     },
     "execution_count": 15,
     "metadata": {},
     "output_type": "execute_result"
    }
   ],
   "source": [
    "# cpu에 있는 텐서를 cuda로 이동\n",
    "device = torch.device('cuda' if torch.cuda.is_available() else 'cpu')\n",
    "device"
   ]
  },
  {
   "cell_type": "code",
   "execution_count": 16,
   "id": "a8d3f0e4",
   "metadata": {},
   "outputs": [],
   "source": [
    "# t5(cpu)에 있는 텐서를 cuda로 변수명을 다르게 하면 복사, 변수명을 똑같이 하면 이동\n",
    "t5 = t5.to(device=device)"
   ]
  },
  {
   "cell_type": "code",
   "execution_count": 17,
   "id": "72c41690",
   "metadata": {},
   "outputs": [
    {
     "name": "stdout",
     "output_type": "stream",
     "text": [
      "torch.Size([3, 3, 3]) torch.float32 torch.cuda.FloatTensor cuda:0\n"
     ]
    }
   ],
   "source": [
    "print(t5.shape, t5.dtype, t5.type(), t5.device)"
   ]
  },
  {
   "cell_type": "markdown",
   "id": "23d7f9df",
   "metadata": {},
   "source": [
    "- cuda(GPU 사용하는 것) : 0(그래픽카드가 다수일 수 있음)\n",
    "- 파이토치의 텐서사용 == 넘파이 배열사용"
   ]
  },
  {
   "cell_type": "markdown",
   "id": "4615ea0d",
   "metadata": {},
   "source": [
    "#### GPU 사용법"
   ]
  },
  {
   "cell_type": "code",
   "execution_count": 18,
   "id": "24950d83",
   "metadata": {},
   "outputs": [
    {
     "data": {
      "text/plain": [
       "tensor([-1.4281], grad_fn=<ViewBackward0>)"
      ]
     },
     "execution_count": 18,
     "metadata": {},
     "output_type": "execute_result"
    }
   ],
   "source": [
    "# CPU 사용\n",
    "import torch.nn\n",
    "\n",
    "# 신경망 모델 생성 - 3개의 입력을 넣어서 하나의 출력을 내는 신경망\n",
    "model = torch.nn.Linear(3, 1)\n",
    "\n",
    "sample_input = torch.tensor([1.0, 2.0, 3.0])\n",
    "output = model(sample_input)\n",
    "\n",
    "output"
   ]
  },
  {
   "cell_type": "code",
   "execution_count": 19,
   "id": "2bce45b7",
   "metadata": {},
   "outputs": [
    {
     "data": {
      "text/plain": [
       "tensor([0.4891], device='cuda:0', grad_fn=<ViewBackward0>)"
      ]
     },
     "execution_count": 19,
     "metadata": {},
     "output_type": "execute_result"
    }
   ],
   "source": [
    "# CUDA 사용\n",
    "import torch.nn\n",
    "\n",
    "# 신경망 모델 생성 - 3개의 입력을 넣어서 하나의 출력을 내는 신경망\n",
    "model = torch.nn.Linear(3, 1)\n",
    "model.to(device)     # 모델 객체도 GPU로 전달\n",
    "\n",
    "sample_input = torch.tensor([1.0, 2.0, 3.0]).to(device)\n",
    "output = model(sample_input)\n",
    "\n",
    "output"
   ]
  },
  {
   "cell_type": "markdown",
   "id": "59c7960a",
   "metadata": {},
   "source": [
    "### PyTorch 모델 학습\n",
    "- torch.nn.Module 로 신경망 모델 만들기\n",
    "- 손실함수, 옵티마이저 설정 학습\n",
    "- 학습 루프 기본 구조 학습"
   ]
  },
  {
   "cell_type": "markdown",
   "id": "5e125e58",
   "metadata": {},
   "source": []
  },
  {
   "cell_type": "markdown",
   "id": "7ffff2a8",
   "metadata": {},
   "source": [
    "#### 기본 구조 추가"
   ]
  },
  {
   "cell_type": "code",
   "execution_count": 20,
   "id": "e83c2b42",
   "metadata": {},
   "outputs": [],
   "source": [
    "# 파이토치 모듈 로드\n",
    "import torch\n",
    "import torch.nn as nn\n",
    "import torch.nn.functional as F     # 보통 F로 사용\n",
    "\n",
    "# 모델 선언(클래스)\n",
    "class SimpleNet(nn.Module):     # nn.Module 클레스를 상속해서 클래스 생성\n",
    "    def __init__(self):\n",
    "        super(SimpleNet, self).__init__()\n",
    "        # Linear : Dense Layer(케라스의 Dense()와 동일)\n",
    "        self.fc1 = nn.Linear(4, 16) # input : 4개 4차원, output : 16개 뉴런(차원)\n",
    "        self.fc2 = nn.Linear(16,3)  # output 3개 차원 클래스(3가지 분류 예측)\n",
    "\n",
    "    def forward(self,x):            # 실제 연산이 수행되는 함수(자동 호출)\n",
    "        x = F.relu(self.fc1(x))     # 첫번째 레이터 통과 - 활성화함수(시그모이드, 소프트맥스, 렐루 모두 존재)\n",
    "        x = self.fc2(x)             # 두번째 레이터 통과 - 출력층(필요시 softmax, loss함수)\n",
    "        return x"
   ]
  },
  {
   "cell_type": "markdown",
   "id": "28961341",
   "metadata": {},
   "source": [
    "- 텐서플로우(케라스)는 중간층에서 입력값을 설정하지 않아도 됨\n",
    "- 파이토치는 입력값, 출력값을 모두 설정해야함"
   ]
  },
  {
   "cell_type": "code",
   "execution_count": 21,
   "id": "483da4d7",
   "metadata": {},
   "outputs": [
    {
     "data": {
      "text/plain": [
       "SimpleNet(\n",
       "  (fc1): Linear(in_features=4, out_features=16, bias=True)\n",
       "  (fc2): Linear(in_features=16, out_features=3, bias=True)\n",
       ")"
      ]
     },
     "execution_count": 21,
     "metadata": {},
     "output_type": "execute_result"
    }
   ],
   "source": [
    "# 모델 확인\n",
    "model = SimpleNet()\n",
    "model"
   ]
  },
  {
   "cell_type": "code",
   "execution_count": 22,
   "id": "a47584fa",
   "metadata": {},
   "outputs": [
    {
     "data": {
      "text/plain": [
       "tensor([[0.6233, 0.1360, 0.5316, 0.9666]])"
      ]
     },
     "execution_count": 22,
     "metadata": {},
     "output_type": "execute_result"
    }
   ],
   "source": [
    "# 샘플입력값\n",
    "x = torch.rand(1,4)\n",
    "x"
   ]
  },
  {
   "cell_type": "code",
   "execution_count": 23,
   "id": "e0235d42",
   "metadata": {},
   "outputs": [
    {
     "data": {
      "text/plain": [
       "tensor([[-0.0569,  0.0749,  0.1009]], grad_fn=<AddmmBackward0>)"
      ]
     },
     "execution_count": 23,
     "metadata": {},
     "output_type": "execute_result"
    }
   ],
   "source": [
    "out = model(x)\n",
    "out"
   ]
  },
  {
   "cell_type": "markdown",
   "id": "a08b34f4",
   "metadata": {},
   "source": [
    "### 손실함수/옵티마이저 설정"
   ]
  },
  {
   "cell_type": "code",
   "execution_count": 24,
   "id": "f3c36a95",
   "metadata": {},
   "outputs": [],
   "source": [
    "# 분류(마지막 출력 3개) CrossEntropyLoss - \n",
    "criterion = nn.CrossEntropyLoss()\n",
    "\n",
    "# 옵티마이저(Adam 권장)\n",
    "optimizer = torch.optim.Adam(model.parameters(), lr = 0.01) # lr(learning rate) 학습률 : 보통 0.01 ~ 0.0001 사이로 지정"
   ]
  },
  {
   "cell_type": "markdown",
   "id": "936d1879",
   "metadata": {},
   "source": [
    "#### 1회 Epoch 학습"
   ]
  },
  {
   "cell_type": "code",
   "execution_count": 30,
   "id": "95602588",
   "metadata": {},
   "outputs": [
    {
     "data": {
      "text/plain": [
       "0.7259848713874817"
      ]
     },
     "execution_count": 30,
     "metadata": {},
     "output_type": "execute_result"
    }
   ],
   "source": [
    "y = torch.tensor([1])\n",
    "\n",
    "# Forward\n",
    "# 예측\n",
    "outputs = model(x)\n",
    "# 손실 계산\n",
    "loss = criterion(outputs, y)\n",
    "\n",
    "# Backward(역전파) : 뉴런을 통과한 값이 다시 다음 훈련의 입력으로 사용\n",
    "# 기울기 초기화\n",
    "optimizer.zero_grad()   # 이전 단계 계산되어 gradient(기울기/가중치) 초기화\n",
    "# 역전파 계산\n",
    "loss.backward()     # 손실 기준으로 각 파라미터에 대한 gradient 계산(오차 역전파)\n",
    "# 파라미터 업데이트\n",
    "optimizer.step()    # 계산한 gradient를 이용, 파라미터 업데이트(학습훈련)\n",
    "\n",
    "# 현재 손실값을 출력\n",
    "loss.item()"
   ]
  },
  {
   "cell_type": "markdown",
   "id": "8e5b1170",
   "metadata": {},
   "source": [
    "### 데이터셋, 데이터로더\n",
    "- `Dataset`, `DataLoader` 학습\n",
    "- 내장 데이터셋\n",
    "- 커스텀 데이터셋 만들기\n",
    "- 배치 학습 처리"
   ]
  },
  {
   "cell_type": "markdown",
   "id": "7a9ab7b0",
   "metadata": {},
   "source": [
    "#### 데이터 셋, 데이터로더란?\n",
    "- Dataset : 데이터를 불러오는 방법\n",
    "- DataLoader : 데이터를 배치 단위로 나누기, 셔플, 병렬처리 방법"
   ]
  },
  {
   "cell_type": "markdown",
   "id": "c1efce64",
   "metadata": {},
   "source": [
    "#### 추가\n",
    "- 머신러닝, 딥러닝에 사용되는 데이터샘플 종류 예제"
   ]
  },
  {
   "cell_type": "code",
   "execution_count": 41,
   "id": "aa1c51db",
   "metadata": {},
   "outputs": [],
   "source": [
    "from sklearn.datasets import load_breast_cancer, load_wine  # 11개 데이터\n",
    "import seaborn as sns\n",
    "\n",
    "sns.load_dataset('iris')        # https://github.com/mwaskom/seaborn-data 확인\n",
    "\n",
    "from torchvision.datasets import FashionMNIST, MNIST, CIFAR10   # 이미지 데이터셋\n",
    "from keras.datasets import mnist, fashion_mnist, boston_housing,cifar10, cifar100, imdb # 이미지, 텍스트 데이터 셋"
   ]
  },
  {
   "cell_type": "code",
   "execution_count": null,
   "id": "066a0181",
   "metadata": {},
   "outputs": [],
   "source": []
  },
  {
   "cell_type": "markdown",
   "id": "c0e678ac",
   "metadata": {},
   "source": [
    "#### 붓꽃(Iris) 데이터셋 사용"
   ]
  },
  {
   "cell_type": "code",
   "execution_count": 52,
   "id": "0320cb02",
   "metadata": {},
   "outputs": [],
   "source": [
    "# 데이터셋 처리 모듈 로드\n",
    "from sklearn.datasets import load_iris, load_wine\n",
    "from sklearn.preprocessing import StandardScaler\n",
    "from sklearn.model_selection import train_test_split\n",
    "import torch\n",
    "from torch.utils.data import Dataset, DataLoader"
   ]
  },
  {
   "cell_type": "code",
   "execution_count": 38,
   "id": "d1a9a0d6",
   "metadata": {},
   "outputs": [
    {
     "name": "stdout",
     "output_type": "stream",
     "text": [
      "(150, 4) (150,)\n"
     ]
    }
   ],
   "source": [
    "# 데이터 로드\n",
    "iris = load_iris()\n",
    "\n",
    "## 입력(특성)데이터 X, 타겟 y == input, target\n",
    "X = iris['data']\n",
    "y = iris['target']\n",
    "\n",
    "print(X.shape, y.shape)     # numpy 데이터"
   ]
  },
  {
   "cell_type": "code",
   "execution_count": 39,
   "id": "731e2f50",
   "metadata": {},
   "outputs": [
    {
     "data": {
      "text/plain": [
       "tensor([0.6233, 0.1360, 0.5316, 0.9666])"
      ]
     },
     "execution_count": 39,
     "metadata": {},
     "output_type": "execute_result"
    }
   ],
   "source": [
    "# sepal(꽃받침) length(cm), sepal width(cm), petal(꽃잎) length(cm), petal width(cm)\n",
    "x[0,:]"
   ]
  },
  {
   "cell_type": "code",
   "execution_count": 40,
   "id": "ff218c5c",
   "metadata": {},
   "outputs": [
    {
     "data": {
      "text/plain": [
       "array([0, 0, 0, 0, 0, 0, 0, 0, 0, 0, 0, 0, 0, 0, 0, 0, 0, 0, 0, 0, 0, 0,\n",
       "       0, 0, 0, 0, 0, 0, 0, 0, 0, 0, 0, 0, 0, 0, 0, 0, 0, 0, 0, 0, 0, 0,\n",
       "       0, 0, 0, 0, 0, 0, 1, 1, 1, 1, 1, 1, 1, 1, 1, 1, 1, 1, 1, 1, 1, 1,\n",
       "       1, 1, 1, 1, 1, 1, 1, 1, 1, 1, 1, 1, 1, 1, 1, 1, 1, 1, 1, 1, 1, 1,\n",
       "       1, 1, 1, 1, 1, 1, 1, 1, 1, 1, 1, 1, 2, 2, 2, 2, 2, 2, 2, 2, 2, 2,\n",
       "       2, 2, 2, 2, 2, 2, 2, 2, 2, 2, 2, 2, 2, 2, 2, 2, 2, 2, 2, 2, 2, 2,\n",
       "       2, 2, 2, 2, 2, 2, 2, 2, 2, 2, 2, 2, 2, 2, 2, 2, 2, 2])"
      ]
     },
     "execution_count": 40,
     "metadata": {},
     "output_type": "execute_result"
    }
   ],
   "source": [
    "# 0(setosa), 1(versicolor), 2(virginica)\n",
    "y"
   ]
  },
  {
   "cell_type": "code",
   "execution_count": 42,
   "id": "0b4a2ce5",
   "metadata": {},
   "outputs": [],
   "source": [
    "# 표준화(정규화)\n",
    "scaler = StandardScaler()   # 사이킷런의 표준정규화 클래스 사용\n",
    "X = scaler.fit_transform(X)"
   ]
  },
  {
   "cell_type": "code",
   "execution_count": 43,
   "id": "3c583d3f",
   "metadata": {},
   "outputs": [
    {
     "data": {
      "text/plain": [
       "array([-0.90068117,  1.01900435, -1.34022653, -1.3154443 ])"
      ]
     },
     "execution_count": 43,
     "metadata": {},
     "output_type": "execute_result"
    }
   ],
   "source": [
    "X[0,:]"
   ]
  },
  {
   "cell_type": "code",
   "execution_count": 47,
   "id": "9dfa1742",
   "metadata": {},
   "outputs": [],
   "source": [
    "# 훈련/검증세트 분리\n",
    "train_scaled, test_scaled, train_target, test_target = train_test_split(X,y,test_size=0.2, random_state=42)"
   ]
  },
  {
   "cell_type": "code",
   "execution_count": 48,
   "id": "c38f3f21",
   "metadata": {},
   "outputs": [],
   "source": [
    "train_scaled, val_scaled, train_target, val_target = train_test_split(train_scaled, train_target, test_size=0.2, random_state=42)"
   ]
  },
  {
   "cell_type": "code",
   "execution_count": 50,
   "id": "b2087507",
   "metadata": {},
   "outputs": [
    {
     "name": "stdout",
     "output_type": "stream",
     "text": [
      "(96, 4) (24, 4) (30, 4)\n"
     ]
    }
   ],
   "source": [
    "print(train_scaled.shape, val_scaled.shape, test_scaled.shape)"
   ]
  },
  {
   "cell_type": "code",
   "execution_count": 51,
   "id": "ae6ff64d",
   "metadata": {},
   "outputs": [
    {
     "data": {
      "text/plain": [
       "array([2, 1, 1, 0, 2, 2, 2, 0, 1, 2, 2, 1, 2, 1, 1, 0, 0, 1, 2, 0, 0, 2,\n",
       "       2, 1, 2, 1, 1, 0, 2, 0, 1, 2, 0, 2, 0, 0, 2, 0, 2, 1, 2, 0, 0, 0,\n",
       "       0, 2, 0, 0, 1, 2, 1, 0, 1, 2, 1, 2, 2, 2, 2, 1, 1, 0, 0, 0, 2, 0,\n",
       "       0, 0, 2, 1, 2, 1, 2, 1, 1, 0, 0, 2, 1, 0, 2, 1, 2, 1, 2, 1, 1, 2,\n",
       "       1, 1, 0, 2, 0, 1, 0, 0])"
      ]
     },
     "execution_count": 51,
     "metadata": {},
     "output_type": "execute_result"
    }
   ],
   "source": [
    "train_target"
   ]
  },
  {
   "cell_type": "markdown",
   "id": "3203dbc6",
   "metadata": {},
   "source": [
    "##### 커스텀 데이터셋 만들기"
   ]
  },
  {
   "cell_type": "code",
   "execution_count": 53,
   "id": "4b7fba54",
   "metadata": {},
   "outputs": [],
   "source": [
    "class IrisDataset(Dataset):\n",
    "    def __init__(self,X,y):\n",
    "        self.X = torch.tensor(X,dtype=torch.float32)    # 특성(입력)값은 실수\n",
    "        self.y = torch.tensor(y, dtype=torch.long)      # CrossEntropyLoss에서는 long 타입 필요\n",
    "    \n",
    "    def __len__(self):\n",
    "        return len(self.X)\n",
    "    \n",
    "    def __getitem__(self, index):\n",
    "        return self.X[index], self.y[index]"
   ]
  },
  {
   "cell_type": "markdown",
   "id": "7afba62d",
   "metadata": {},
   "source": [
    "- 데이터셋으로 묶고, 데이터로더로 묶기"
   ]
  },
  {
   "cell_type": "code",
   "execution_count": null,
   "id": "e75bf29d",
   "metadata": {},
   "outputs": [],
   "source": [
    "# 커스텀 데이터셋으로 생성 - 입력(특성)과 타겟을 하나로 묶음\n",
    "train_dataset = IrisDataset(train_scaled, train_target)\n",
    "val_dataset = IrisDataset(val_scaled, val_target)"
   ]
  },
  {
   "cell_type": "code",
   "execution_count": 63,
   "id": "e9d5b463",
   "metadata": {},
   "outputs": [],
   "source": [
    "# 데이터로더로 생성 - 배치학습, 셔플, 병렬데이터 로딩\n",
    "train_loader = DataLoader(train_dataset, batch_size=8, shuffle=True)\n",
    "val_loader = DataLoader(val_dataset, batch_size=8)"
   ]
  },
  {
   "cell_type": "markdown",
   "id": "0566d378",
   "metadata": {},
   "source": [
    "- 실제 모델 훈련에서는 `DataLoader`를 사용"
   ]
  },
  {
   "cell_type": "markdown",
   "id": "99e29068",
   "metadata": {},
   "source": [
    "#### 배치 학습 반복"
   ]
  },
  {
   "cell_type": "code",
   "execution_count": 66,
   "id": "a60b2ce9",
   "metadata": {},
   "outputs": [
    {
     "name": "stdout",
     "output_type": "stream",
     "text": [
      "Batch loss : 1.2143406867980957 / 1\n",
      "Batch loss : 1.3378169536590576 / 2\n",
      "Batch loss : 1.1070722341537476 / 3\n",
      "Batch loss : 1.1547801494598389 / 4\n",
      "Batch loss : 0.9797183275222778 / 5\n",
      "Batch loss : 1.0440069437026978 / 6\n",
      "Batch loss : 1.1534281969070435 / 7\n",
      "Batch loss : 1.3252265453338623 / 8\n",
      "Batch loss : 1.2884639501571655 / 9\n",
      "Batch loss : 1.19199800491333 / 10\n",
      "Batch loss : 0.9924395084381104 / 11\n",
      "Batch loss : 1.1731926202774048 / 12\n"
     ]
    }
   ],
   "source": [
    "i = 1\n",
    "for batch_input, batch_target in train_loader:   \n",
    "    outputs = model(batch_input)\n",
    "    loss = criterion(outputs, batch_target)\n",
    "\n",
    "    print(f'Batch loss : {loss.item()} / {i}')\n",
    "    i += 1"
   ]
  },
  {
   "cell_type": "markdown",
   "id": "efc3977e",
   "metadata": {},
   "source": [
    "- 96개 입력을 16으로 나눔 : 배치사이즈가 16이라서 6번 epoch"
   ]
  },
  {
   "cell_type": "markdown",
   "id": "1538028a",
   "metadata": {},
   "source": [
    "### 학습 루프 작성\n",
    "- 전체 학습 루프 구성\n",
    "- Epoch, Batch 사용\n",
    "- train(), evaluate() 확인"
   ]
  },
  {
   "cell_type": "markdown",
   "id": "76c449f1",
   "metadata": {},
   "source": [
    "#### 신경망 클래스 정의"
   ]
  },
  {
   "cell_type": "code",
   "execution_count": 68,
   "id": "daa1af2e",
   "metadata": {},
   "outputs": [],
   "source": [
    "# 아이리스용 신경망\n",
    "class IrisNet(nn.Module):\n",
    "    def __init__(self):\n",
    "        super(IrisNet,self).__init__()\n",
    "        self.fc1 = nn.Linear(4,16)      # fc1 : Full Connected Layer / tensorflow Dense() 와 동일 \n",
    "        self.fc2 = nn.Linear(16,3)  \n",
    "    \n",
    "    def forward(self,x):\n",
    "        x = F.relu(self.fc1(x))\n",
    "        x = self.fc2(x)\n",
    "        return x"
   ]
  },
  {
   "cell_type": "markdown",
   "id": "32ba6936",
   "metadata": {},
   "source": [
    "#### Iris 데이터 준비"
   ]
  },
  {
   "cell_type": "code",
   "execution_count": 70,
   "id": "4974b4ba",
   "metadata": {},
   "outputs": [],
   "source": [
    "# 커스텀 데이터셋\n",
    "class IrisDataset(Dataset):\n",
    "    def __init__(self, X, y):\n",
    "        self.X = torch.tensor(X, dtype=torch.float32)\n",
    "        self.y = torch.tensor(y, dtype=torch.long)\n",
    "\n",
    "    def __len__(self):\n",
    "        return len(self.X)\n",
    "    \n",
    "    def __getitem__(self, index):  \n",
    "        return self.X[index], self.y[index]\n",
    "    \n",
    "iris = load_iris()\n",
    "X = StandardScaler().fit_transform(iris.data)       # iris.data == iris['data']\n",
    "y = iris.target\n",
    "\n",
    "X_train, X_val, y_train, y_val = train_test_split(X, y, test_size=0.2, random_state=42)\n",
    " \n",
    "# Dataset, DataLoader 합쳐서 생성\n",
    "train_loader = DataLoader(IrisDataset(X_train, y_train), batch_size=8, shuffle=True)\n",
    "val_loader = DataLoader(IrisDataset(X_val, y_val), batch_size = 8)"
   ]
  },
  {
   "cell_type": "markdown",
   "id": "e42984ec",
   "metadata": {},
   "source": [
    "#### 모델 디바이스 전달"
   ]
  },
  {
   "cell_type": "code",
   "execution_count": 72,
   "id": "748f7776",
   "metadata": {},
   "outputs": [],
   "source": [
    "model = IrisNet().to(device)\n",
    "\n",
    "criterion = nn.CrossEntropyLoss()\n",
    "optimizer = torch.optim.Adam(model.parameters(), lr=0.01)"
   ]
  },
  {
   "cell_type": "code",
   "execution_count": 73,
   "id": "0f86f933",
   "metadata": {},
   "outputs": [
    {
     "data": {
      "text/plain": [
       "IrisNet(\n",
       "  (fc1): Linear(in_features=4, out_features=16, bias=True)\n",
       "  (fc2): Linear(in_features=16, out_features=3, bias=True)\n",
       ")"
      ]
     },
     "execution_count": 73,
     "metadata": {},
     "output_type": "execute_result"
    }
   ],
   "source": [
    "model"
   ]
  },
  {
   "cell_type": "markdown",
   "id": "f975165e",
   "metadata": {},
   "source": [
    "#### 훈련 루프 함수 / 편가 함수\n"
   ]
  },
  {
   "cell_type": "code",
   "execution_count": 79,
   "id": "11f702ed",
   "metadata": {},
   "outputs": [],
   "source": [
    "# 훈련 루프함수\n",
    "def train(model, dataloader, criterion, optimizer):\n",
    "    model.train()\n",
    "    total_loss = 0\n",
    "\n",
    "    for X_batch, y_batch in dataloader:\n",
    "        X_batch, y_batch = X_batch.to(device), y_batch.to(device)\n",
    "\n",
    "        optimizer.zero_grad()\n",
    "        outputs = model(X_batch)\n",
    "        loss = criterion(outputs, y_batch)\n",
    "        loss.backward()\n",
    "        optimizer.step()\n",
    "\n",
    "        total_loss += loss.item()\n",
    "\n",
    "    avg_loss = total_loss / len(dataloader)\n",
    "    return avg_loss\n",
    "\n"
   ]
  },
  {
   "cell_type": "code",
   "execution_count": null,
   "id": "2f10d565",
   "metadata": {},
   "outputs": [],
   "source": [
    "# 평가함수\n",
    "def evaluate(model, dataloader, criterion):\n",
    "    model.eval()    # 평가모드\n",
    "    total_loss = 0\n",
    "    correct = 0\n",
    "    total = 0\n",
    "\n",
    "    with torch.no_grad():   # 평가시에는 그레디언트 꺼줌\n",
    "        for X_batch, y_batch in dataloader:\n",
    "            X_batch, y_batch = X_batch.to(device), y_batch.to(device)\n",
    "            outputs = model(X_batch)\n",
    "            loss = criterion(outputs, y_batch)\n",
    "            total_loss += loss.item()\n",
    "\n",
    "            # 정확도\n",
    "            preds = torch.argmax(outputs, dim=1)    #  제일 확률이 큰 값의 인덱스 (0, 1, 2) 중 하나 값 선택\n",
    "            correct += (preds == y_batch).sum().item()\n",
    "            total += y_batch.size(0)\n",
    "\n",
    "    avg_loss = total_loss / len(dataloader)\n",
    "    accuracy = correct / total\n",
    "    return avg_loss, accuracy"
   ]
  },
  {
   "cell_type": "markdown",
   "id": "943f60b3",
   "metadata": {},
   "source": [
    "##### 훈련 실행"
   ]
  },
  {
   "cell_type": "code",
   "execution_count": 83,
   "id": "068d1145",
   "metadata": {},
   "outputs": [
    {
     "name": "stdout",
     "output_type": "stream",
     "text": [
      "[1/20] Train Loss : 0.063 | Val Loss : 0.042, Val Accuracy : 100.00% \n",
      "[2/20] Train Loss : 0.064 | Val Loss : 0.041, Val Accuracy : 100.00% \n",
      "[3/20] Train Loss : 0.063 | Val Loss : 0.042, Val Accuracy : 96.67% \n",
      "[4/20] Train Loss : 0.075 | Val Loss : 0.048, Val Accuracy : 96.67% \n",
      "[5/20] Train Loss : 0.070 | Val Loss : 0.044, Val Accuracy : 100.00% \n",
      "[6/20] Train Loss : 0.057 | Val Loss : 0.043, Val Accuracy : 96.67% \n",
      "[7/20] Train Loss : 0.064 | Val Loss : 0.031, Val Accuracy : 100.00% \n",
      "[8/20] Train Loss : 0.064 | Val Loss : 0.035, Val Accuracy : 100.00% \n",
      "[9/20] Train Loss : 0.065 | Val Loss : 0.040, Val Accuracy : 96.67% \n",
      "[10/20] Train Loss : 0.075 | Val Loss : 0.036, Val Accuracy : 100.00% \n",
      "[11/20] Train Loss : 0.062 | Val Loss : 0.034, Val Accuracy : 100.00% \n",
      "[12/20] Train Loss : 0.059 | Val Loss : 0.035, Val Accuracy : 100.00% \n",
      "[13/20] Train Loss : 0.071 | Val Loss : 0.037, Val Accuracy : 96.67% \n",
      "[14/20] Train Loss : 0.066 | Val Loss : 0.039, Val Accuracy : 96.67% \n",
      "[15/20] Train Loss : 0.059 | Val Loss : 0.033, Val Accuracy : 100.00% \n",
      "[16/20] Train Loss : 0.059 | Val Loss : 0.032, Val Accuracy : 100.00% \n",
      "[17/20] Train Loss : 0.061 | Val Loss : 0.030, Val Accuracy : 100.00% \n",
      "[18/20] Train Loss : 0.063 | Val Loss : 0.031, Val Accuracy : 100.00% \n",
      "[19/20] Train Loss : 0.073 | Val Loss : 0.025, Val Accuracy : 100.00% \n",
      "[20/20] Train Loss : 0.059 | Val Loss : 0.028, Val Accuracy : 100.00% \n"
     ]
    }
   ],
   "source": [
    "EPOCH = 20\n",
    "\n",
    "for epoch in range(EPOCH):\n",
    "    train_loss = train(model, train_loader, criterion, optimizer)\n",
    "    val_loss, val_acc = evaluate(model, val_loader, criterion)\n",
    "\n",
    "    print(f'[{epoch+1}/{EPOCH}] Train Loss : {train_loss:.3f} | Val Loss : {val_loss:.3f}, Val Accuracy : {val_acc:.2%} ')"
   ]
  }
 ],
 "metadata": {
  "kernelspec": {
   "display_name": "mlvenv",
   "language": "python",
   "name": "python3"
  },
  "language_info": {
   "codemirror_mode": {
    "name": "ipython",
    "version": 3
   },
   "file_extension": ".py",
   "mimetype": "text/x-python",
   "name": "python",
   "nbconvert_exporter": "python",
   "pygments_lexer": "ipython3",
   "version": "3.11.9"
  }
 },
 "nbformat": 4,
 "nbformat_minor": 5
}
